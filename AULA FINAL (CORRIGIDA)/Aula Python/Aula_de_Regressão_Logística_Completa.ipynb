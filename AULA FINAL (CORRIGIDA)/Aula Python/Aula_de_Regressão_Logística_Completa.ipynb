{
  "nbformat": 4,
  "nbformat_minor": 0,
  "metadata": {
    "colab": {
      "provenance": []
    },
    "kernelspec": {
      "name": "python3",
      "display_name": "Python 3"
    },
    "language_info": {
      "name": "python"
    }
  },
  "cells": [
    {
      "cell_type": "markdown",
      "source": [
        "**Regressão logística com Scikit-learn**\n",
        "\n",
        "Para implementar a regressão logística com o Scikit-learn, você precisa entender o processo de modelagem do Scikit-learn e a regressão linear.\n",
        "\n",
        "As etapas para construir uma regressão logística incluem:\n",
        "\n",
        "Importe os pacotes , classes e funções.\n",
        "Carregue os dados.\n",
        "Análise Exploratória de Dados (AED).\n",
        "Transforme os dados, se necessário.\n",
        "Ajustar o modelo de classificação.\n",
        "Avalie o modelo de desempenho.\n",
        "\n",
        "**Importando pacotes**\n",
        "\n",
        "Primeiro, você precisa importar Seaborn para visualização, NumPy e Pandas . Além disso, importe:\n",
        "\n",
        "LogisticRegression para ajuste do modelo.\n",
        "confusion_matrix e classification_report para avaliar o modelo."
      ],
      "metadata": {
        "id": "8AjPZ5SgiNUN"
      }
    },
    {
      "cell_type": "code",
      "source": [
        "import numpy as np\n",
        "import pandas as pd\n",
        "import matplotlib.pyplot as plt\n",
        "import seaborn as sns\n",
        "from sklearn.preprocessing import StandardScaler\n",
        "from sklearn.model_selection import train_test_split \n",
        "from sklearn.linear_model import LogisticRegression\n",
        "from sklearn.metrics import confusion_matrix, classification_report, accuracy_score"
      ],
      "metadata": {
        "id": "k4ISd2cwhqg2"
      },
      "execution_count": null,
      "outputs": []
    },
    {
      "cell_type": "markdown",
      "source": [
        "**Carregando o conjunto de dados**\n",
        "\n",
        "Importe o   conjunto de dados Social Network Ads do Kaggle . Os dados são um arquivo CSV com dados que nos ajudarão a construir um modelo de regressão logística para mostrar **quais usuários compraram ou não compraram um produto.**"
      ],
      "metadata": {
        "id": "PYSY5-1qir5L"
      }
    },
    {
      "cell_type": "code",
      "source": [
        "social_N_data = pd.read_csv('/content/Social_Network_Ads.csv')\n",
        "pd.concat([social_N_data.head(), social_N_data.tail()])"
      ],
      "metadata": {
        "colab": {
          "base_uri": "https://localhost:8080/",
          "height": 363
        },
        "id": "g8Vk2MrEivR1",
        "outputId": "d2503f28-a258-4ad1-aae7-cdc8510e3367"
      },
      "execution_count": null,
      "outputs": [
        {
          "output_type": "execute_result",
          "data": {
            "text/plain": [
              "      User ID  Gender  Age  EstimatedSalary  Purchased\n",
              "0    15624510    Male   19            19000          0\n",
              "1    15810944    Male   35            20000          0\n",
              "2    15668575  Female   26            43000          0\n",
              "3    15603246  Female   27            57000          0\n",
              "4    15804002    Male   19            76000          0\n",
              "395  15691863  Female   46            41000          1\n",
              "396  15706071    Male   51            23000          1\n",
              "397  15654296  Female   50            20000          1\n",
              "398  15755018    Male   36            33000          0\n",
              "399  15594041  Female   49            36000          1"
            ],
            "text/html": [
              "\n",
              "  <div id=\"df-e775abc1-6643-4b1c-a866-f426e909174f\">\n",
              "    <div class=\"colab-df-container\">\n",
              "      <div>\n",
              "<style scoped>\n",
              "    .dataframe tbody tr th:only-of-type {\n",
              "        vertical-align: middle;\n",
              "    }\n",
              "\n",
              "    .dataframe tbody tr th {\n",
              "        vertical-align: top;\n",
              "    }\n",
              "\n",
              "    .dataframe thead th {\n",
              "        text-align: right;\n",
              "    }\n",
              "</style>\n",
              "<table border=\"1\" class=\"dataframe\">\n",
              "  <thead>\n",
              "    <tr style=\"text-align: right;\">\n",
              "      <th></th>\n",
              "      <th>User ID</th>\n",
              "      <th>Gender</th>\n",
              "      <th>Age</th>\n",
              "      <th>EstimatedSalary</th>\n",
              "      <th>Purchased</th>\n",
              "    </tr>\n",
              "  </thead>\n",
              "  <tbody>\n",
              "    <tr>\n",
              "      <th>0</th>\n",
              "      <td>15624510</td>\n",
              "      <td>Male</td>\n",
              "      <td>19</td>\n",
              "      <td>19000</td>\n",
              "      <td>0</td>\n",
              "    </tr>\n",
              "    <tr>\n",
              "      <th>1</th>\n",
              "      <td>15810944</td>\n",
              "      <td>Male</td>\n",
              "      <td>35</td>\n",
              "      <td>20000</td>\n",
              "      <td>0</td>\n",
              "    </tr>\n",
              "    <tr>\n",
              "      <th>2</th>\n",
              "      <td>15668575</td>\n",
              "      <td>Female</td>\n",
              "      <td>26</td>\n",
              "      <td>43000</td>\n",
              "      <td>0</td>\n",
              "    </tr>\n",
              "    <tr>\n",
              "      <th>3</th>\n",
              "      <td>15603246</td>\n",
              "      <td>Female</td>\n",
              "      <td>27</td>\n",
              "      <td>57000</td>\n",
              "      <td>0</td>\n",
              "    </tr>\n",
              "    <tr>\n",
              "      <th>4</th>\n",
              "      <td>15804002</td>\n",
              "      <td>Male</td>\n",
              "      <td>19</td>\n",
              "      <td>76000</td>\n",
              "      <td>0</td>\n",
              "    </tr>\n",
              "    <tr>\n",
              "      <th>395</th>\n",
              "      <td>15691863</td>\n",
              "      <td>Female</td>\n",
              "      <td>46</td>\n",
              "      <td>41000</td>\n",
              "      <td>1</td>\n",
              "    </tr>\n",
              "    <tr>\n",
              "      <th>396</th>\n",
              "      <td>15706071</td>\n",
              "      <td>Male</td>\n",
              "      <td>51</td>\n",
              "      <td>23000</td>\n",
              "      <td>1</td>\n",
              "    </tr>\n",
              "    <tr>\n",
              "      <th>397</th>\n",
              "      <td>15654296</td>\n",
              "      <td>Female</td>\n",
              "      <td>50</td>\n",
              "      <td>20000</td>\n",
              "      <td>1</td>\n",
              "    </tr>\n",
              "    <tr>\n",
              "      <th>398</th>\n",
              "      <td>15755018</td>\n",
              "      <td>Male</td>\n",
              "      <td>36</td>\n",
              "      <td>33000</td>\n",
              "      <td>0</td>\n",
              "    </tr>\n",
              "    <tr>\n",
              "      <th>399</th>\n",
              "      <td>15594041</td>\n",
              "      <td>Female</td>\n",
              "      <td>49</td>\n",
              "      <td>36000</td>\n",
              "      <td>1</td>\n",
              "    </tr>\n",
              "  </tbody>\n",
              "</table>\n",
              "</div>\n",
              "      <button class=\"colab-df-convert\" onclick=\"convertToInteractive('df-e775abc1-6643-4b1c-a866-f426e909174f')\"\n",
              "              title=\"Convert this dataframe to an interactive table.\"\n",
              "              style=\"display:none;\">\n",
              "        \n",
              "  <svg xmlns=\"http://www.w3.org/2000/svg\" height=\"24px\"viewBox=\"0 0 24 24\"\n",
              "       width=\"24px\">\n",
              "    <path d=\"M0 0h24v24H0V0z\" fill=\"none\"/>\n",
              "    <path d=\"M18.56 5.44l.94 2.06.94-2.06 2.06-.94-2.06-.94-.94-2.06-.94 2.06-2.06.94zm-11 1L8.5 8.5l.94-2.06 2.06-.94-2.06-.94L8.5 2.5l-.94 2.06-2.06.94zm10 10l.94 2.06.94-2.06 2.06-.94-2.06-.94-.94-2.06-.94 2.06-2.06.94z\"/><path d=\"M17.41 7.96l-1.37-1.37c-.4-.4-.92-.59-1.43-.59-.52 0-1.04.2-1.43.59L10.3 9.45l-7.72 7.72c-.78.78-.78 2.05 0 2.83L4 21.41c.39.39.9.59 1.41.59.51 0 1.02-.2 1.41-.59l7.78-7.78 2.81-2.81c.8-.78.8-2.07 0-2.86zM5.41 20L4 18.59l7.72-7.72 1.47 1.35L5.41 20z\"/>\n",
              "  </svg>\n",
              "      </button>\n",
              "      \n",
              "  <style>\n",
              "    .colab-df-container {\n",
              "      display:flex;\n",
              "      flex-wrap:wrap;\n",
              "      gap: 12px;\n",
              "    }\n",
              "\n",
              "    .colab-df-convert {\n",
              "      background-color: #E8F0FE;\n",
              "      border: none;\n",
              "      border-radius: 50%;\n",
              "      cursor: pointer;\n",
              "      display: none;\n",
              "      fill: #1967D2;\n",
              "      height: 32px;\n",
              "      padding: 0 0 0 0;\n",
              "      width: 32px;\n",
              "    }\n",
              "\n",
              "    .colab-df-convert:hover {\n",
              "      background-color: #E2EBFA;\n",
              "      box-shadow: 0px 1px 2px rgba(60, 64, 67, 0.3), 0px 1px 3px 1px rgba(60, 64, 67, 0.15);\n",
              "      fill: #174EA6;\n",
              "    }\n",
              "\n",
              "    [theme=dark] .colab-df-convert {\n",
              "      background-color: #3B4455;\n",
              "      fill: #D2E3FC;\n",
              "    }\n",
              "\n",
              "    [theme=dark] .colab-df-convert:hover {\n",
              "      background-color: #434B5C;\n",
              "      box-shadow: 0px 1px 3px 1px rgba(0, 0, 0, 0.15);\n",
              "      filter: drop-shadow(0px 1px 2px rgba(0, 0, 0, 0.3));\n",
              "      fill: #FFFFFF;\n",
              "    }\n",
              "  </style>\n",
              "\n",
              "      <script>\n",
              "        const buttonEl =\n",
              "          document.querySelector('#df-e775abc1-6643-4b1c-a866-f426e909174f button.colab-df-convert');\n",
              "        buttonEl.style.display =\n",
              "          google.colab.kernel.accessAllowed ? 'block' : 'none';\n",
              "\n",
              "        async function convertToInteractive(key) {\n",
              "          const element = document.querySelector('#df-e775abc1-6643-4b1c-a866-f426e909174f');\n",
              "          const dataTable =\n",
              "            await google.colab.kernel.invokeFunction('convertToInteractive',\n",
              "                                                     [key], {});\n",
              "          if (!dataTable) return;\n",
              "\n",
              "          const docLinkHtml = 'Like what you see? Visit the ' +\n",
              "            '<a target=\"_blank\" href=https://colab.research.google.com/notebooks/data_table.ipynb>data table notebook</a>'\n",
              "            + ' to learn more about interactive tables.';\n",
              "          element.innerHTML = '';\n",
              "          dataTable['output_type'] = 'display_data';\n",
              "          await google.colab.output.renderOutput(dataTable, element);\n",
              "          const docLink = document.createElement('div');\n",
              "          docLink.innerHTML = docLinkHtml;\n",
              "          element.appendChild(docLink);\n",
              "        }\n",
              "      </script>\n",
              "    </div>\n",
              "  </div>\n",
              "  "
            ]
          },
          "metadata": {},
          "execution_count": 31
        }
      ]
    },
    {
      "cell_type": "markdown",
      "source": [
        "**Análise exploratória de dados**\n",
        "\n",
        "Analisar os dados primeiro é a chave para entender suas características. Começaremos verificando os valores ausentes."
      ],
      "metadata": {
        "id": "B9hULgetjA0e"
      }
    },
    {
      "cell_type": "code",
      "source": [
        "#CHECK FOR NULL VALUES\n",
        "social_N_data.isnull().any()\n"
      ],
      "metadata": {
        "colab": {
          "base_uri": "https://localhost:8080/"
        },
        "id": "DhlDi7kZhusY",
        "outputId": "09827b85-a58f-42e9-f0cd-8bd53bb5e495"
      },
      "execution_count": null,
      "outputs": [
        {
          "output_type": "execute_result",
          "data": {
            "text/plain": [
              "User ID            False\n",
              "Gender             False\n",
              "Age                False\n",
              "EstimatedSalary    False\n",
              "Purchased          False\n",
              "dtype: bool"
            ]
          },
          "metadata": {},
          "execution_count": 32
        }
      ]
    },
    {
      "cell_type": "markdown",
      "source": [
        "Nenhum valor nulo no conjunto de dados.\n",
        "\n",
        "Confira o total de quem comprou e de quem não comprou:"
      ],
      "metadata": {
        "id": "polz4pqAjFvM"
      }
    },
    {
      "cell_type": "code",
      "source": [
        "sns.countplot(x='Purchased', data=social_N_data)\n"
      ],
      "metadata": {
        "colab": {
          "base_uri": "https://localhost:8080/",
          "height": 467
        },
        "id": "9cagZpwEiBuT",
        "outputId": "a71859ca-728a-4a20-fd9b-0e9379bc28d7"
      },
      "execution_count": null,
      "outputs": [
        {
          "output_type": "execute_result",
          "data": {
            "text/plain": [
              "<Axes: xlabel='Purchased', ylabel='count'>"
            ]
          },
          "metadata": {},
          "execution_count": 33
        },
        {
          "output_type": "display_data",
          "data": {
            "text/plain": [
              "<Figure size 640x480 with 1 Axes>"
            ],
            "image/png": "[encoded data removed]"
          },
          "metadata": {}
        }
      ]
    },
    {
      "cell_type": "markdown",
      "source": [
        "Zero indica quem não comprou e 1 para quem comprou.\n",
        "\n",
        "Confira quantos homens e mulheres compraram o produto:"
      ],
      "metadata": {
        "id": "FMTZzt1LjIfS"
      }
    },
    {
      "cell_type": "code",
      "source": [
        "sns.countplot(x='Purchased', hue='Gender', data=social_N_data)\n"
      ],
      "metadata": {
        "colab": {
          "base_uri": "https://localhost:8080/",
          "height": 467
        },
        "id": "m5I7rnqIjbER",
        "outputId": "442c51e1-44ee-45cf-f149-e7d8ac370891"
      },
      "execution_count": null,
      "outputs": [
        {
          "output_type": "execute_result",
          "data": {
            "text/plain": [
              "<Axes: xlabel='Purchased', ylabel='count'>"
            ]
          },
          "metadata": {},
          "execution_count": 34
        },
        {
          "output_type": "display_data",
          "data": {
            "text/plain": [
              "<Figure size 640x480 with 1 Axes>"
            ],
            "image/png": "[encoded data removed]"
          },
          "metadata": {}
        }
      ]
    },
    {
      "cell_type": "markdown",
      "source": [
        "A partir do gráfico, podemos ver que a maioria das pessoas que não compraram são do sexo masculino, e a maioria das que compraram são do sexo feminino.\n",
        "\n",
        "Também podemos verificar a distribuição etária no conjunto de dados:"
      ],
      "metadata": {
        "id": "4NgadCCYjfIr"
      }
    },
    {
      "cell_type": "code",
      "source": [
        "sns.displot(x='Age', data=social_N_data, color='red', kde=True)\n"
      ],
      "metadata": {
        "colab": {
          "base_uri": "https://localhost:8080/",
          "height": 525
        },
        "id": "eYTaGGncjh0Z",
        "outputId": "0b199c97-6d5c-4453-bb1b-a79d24789601"
      },
      "execution_count": null,
      "outputs": [
        {
          "output_type": "execute_result",
          "data": {
            "text/plain": [
              "<seaborn.axisgrid.FacetGrid at 0x7f334e426260>"
            ]
          },
          "metadata": {},
          "execution_count": 35
        },
        {
          "output_type": "display_data",
          "data": {
            "text/plain": [
              "<Figure size 500x500 with 1 Axes>"
            ],
            "image/png": "[encoded data removed]"
          },
          "metadata": {}
        }
      ]
    },
    {
      "cell_type": "markdown",
      "source": [
        "**Limpando os dados**\n",
        "\n",
        "Usaremos as colunas Gender, Age e EstimatedSalary do conjunto de dados para a regressão logística. Isso significa que não precisamos da UserID coluna. Assim vamos abandoná-lo."
      ],
      "metadata": {
        "id": "YZC3fmSFjqlS"
      }
    },
    {
      "cell_type": "code",
      "source": [
        "# CLEAN THE DATA\n",
        "social_N_data.drop('User ID', axis=1, inplace=True)\n",
        "pd.concat([social_N_data.head(), social_N_data.tail()])\n",
        "\n"
      ],
      "metadata": {
        "colab": {
          "base_uri": "https://localhost:8080/",
          "height": 363
        },
        "id": "sXWlUGrzhzXf",
        "outputId": "dce2fddc-d7d2-4b8e-e7e8-883da0f6832e"
      },
      "execution_count": null,
      "outputs": [
        {
          "output_type": "execute_result",
          "data": {
            "text/plain": [
              "     Gender  Age  EstimatedSalary  Purchased\n",
              "0      Male   19            19000          0\n",
              "1      Male   35            20000          0\n",
              "2    Female   26            43000          0\n",
              "3    Female   27            57000          0\n",
              "4      Male   19            76000          0\n",
              "395  Female   46            41000          1\n",
              "396    Male   51            23000          1\n",
              "397  Female   50            20000          1\n",
              "398    Male   36            33000          0\n",
              "399  Female   49            36000          1"
            ],
            "text/html": [
              "\n",
              "  <div id=\"df-282b51e7-13d7-49d3-bf7b-5c06b1e2e01c\">\n",
              "    <div class=\"colab-df-container\">\n",
              "      <div>\n",
              "<style scoped>\n",
              "    .dataframe tbody tr th:only-of-type {\n",
              "        vertical-align: middle;\n",
              "    }\n",
              "\n",
              "    .dataframe tbody tr th {\n",
              "        vertical-align: top;\n",
              "    }\n",
              "\n",
              "    .dataframe thead th {\n",
              "        text-align: right;\n",
              "    }\n",
              "</style>\n",
              "<table border=\"1\" class=\"dataframe\">\n",
              "  <thead>\n",
              "    <tr style=\"text-align: right;\">\n",
              "      <th></th>\n",
              "      <th>Gender</th>\n",
              "      <th>Age</th>\n",
              "      <th>EstimatedSalary</th>\n",
              "      <th>Purchased</th>\n",
              "    </tr>\n",
              "  </thead>\n",
              "  <tbody>\n",
              "    <tr>\n",
              "      <th>0</th>\n",
              "      <td>Male</td>\n",
              "      <td>19</td>\n",
              "      <td>19000</td>\n",
              "      <td>0</td>\n",
              "    </tr>\n",
              "    <tr>\n",
              "      <th>1</th>\n",
              "      <td>Male</td>\n",
              "      <td>35</td>\n",
              "      <td>20000</td>\n",
              "      <td>0</td>\n",
              "    </tr>\n",
              "    <tr>\n",
              "      <th>2</th>\n",
              "      <td>Female</td>\n",
              "      <td>26</td>\n",
              "      <td>43000</td>\n",
              "      <td>0</td>\n",
              "    </tr>\n",
              "    <tr>\n",
              "      <th>3</th>\n",
              "      <td>Female</td>\n",
              "      <td>27</td>\n",
              "      <td>57000</td>\n",
              "      <td>0</td>\n",
              "    </tr>\n",
              "    <tr>\n",
              "      <th>4</th>\n",
              "      <td>Male</td>\n",
              "      <td>19</td>\n",
              "      <td>76000</td>\n",
              "      <td>0</td>\n",
              "    </tr>\n",
              "    <tr>\n",
              "      <th>395</th>\n",
              "      <td>Female</td>\n",
              "      <td>46</td>\n",
              "      <td>41000</td>\n",
              "      <td>1</td>\n",
              "    </tr>\n",
              "    <tr>\n",
              "      <th>396</th>\n",
              "      <td>Male</td>\n",
              "      <td>51</td>\n",
              "      <td>23000</td>\n",
              "      <td>1</td>\n",
              "    </tr>\n",
              "    <tr>\n",
              "      <th>397</th>\n",
              "      <td>Female</td>\n",
              "      <td>50</td>\n",
              "      <td>20000</td>\n",
              "      <td>1</td>\n",
              "    </tr>\n",
              "    <tr>\n",
              "      <th>398</th>\n",
              "      <td>Male</td>\n",
              "      <td>36</td>\n",
              "      <td>33000</td>\n",
              "      <td>0</td>\n",
              "    </tr>\n",
              "    <tr>\n",
              "      <th>399</th>\n",
              "      <td>Female</td>\n",
              "      <td>49</td>\n",
              "      <td>36000</td>\n",
              "      <td>1</td>\n",
              "    </tr>\n",
              "  </tbody>\n",
              "</table>\n",
              "</div>\n",
              "      <button class=\"colab-df-convert\" onclick=\"convertToInteractive('df-282b51e7-13d7-49d3-bf7b-5c06b1e2e01c')\"\n",
              "              title=\"Convert this dataframe to an interactive table.\"\n",
              "              style=\"display:none;\">\n",
              "        \n",
              "  <svg xmlns=\"http://www.w3.org/2000/svg\" height=\"24px\"viewBox=\"0 0 24 24\"\n",
              "       width=\"24px\">\n",
              "    <path d=\"M0 0h24v24H0V0z\" fill=\"none\"/>\n",
              "    <path d=\"M18.56 5.44l.94 2.06.94-2.06 2.06-.94-2.06-.94-.94-2.06-.94 2.06-2.06.94zm-11 1L8.5 8.5l.94-2.06 2.06-.94-2.06-.94L8.5 2.5l-.94 2.06-2.06.94zm10 10l.94 2.06.94-2.06 2.06-.94-2.06-.94-.94-2.06-.94 2.06-2.06.94z\"/><path d=\"M17.41 7.96l-1.37-1.37c-.4-.4-.92-.59-1.43-.59-.52 0-1.04.2-1.43.59L10.3 9.45l-7.72 7.72c-.78.78-.78 2.05 0 2.83L4 21.41c.39.39.9.59 1.41.59.51 0 1.02-.2 1.41-.59l7.78-7.78 2.81-2.81c.8-.78.8-2.07 0-2.86zM5.41 20L4 18.59l7.72-7.72 1.47 1.35L5.41 20z\"/>\n",
              "  </svg>\n",
              "      </button>\n",
              "      \n",
              "  <style>\n",
              "    .colab-df-container {\n",
              "      display:flex;\n",
              "      flex-wrap:wrap;\n",
              "      gap: 12px;\n",
              "    }\n",
              "\n",
              "    .colab-df-convert {\n",
              "      background-color: #E8F0FE;\n",
              "      border: none;\n",
              "      border-radius: 50%;\n",
              "      cursor: pointer;\n",
              "      display: none;\n",
              "      fill: #1967D2;\n",
              "      height: 32px;\n",
              "      padding: 0 0 0 0;\n",
              "      width: 32px;\n",
              "    }\n",
              "\n",
              "    .colab-df-convert:hover {\n",
              "      background-color: #E2EBFA;\n",
              "      box-shadow: 0px 1px 2px rgba(60, 64, 67, 0.3), 0px 1px 3px 1px rgba(60, 64, 67, 0.15);\n",
              "      fill: #174EA6;\n",
              "    }\n",
              "\n",
              "    [theme=dark] .colab-df-convert {\n",
              "      background-color: #3B4455;\n",
              "      fill: #D2E3FC;\n",
              "    }\n",
              "\n",
              "    [theme=dark] .colab-df-convert:hover {\n",
              "      background-color: #434B5C;\n",
              "      box-shadow: 0px 1px 3px 1px rgba(0, 0, 0, 0.15);\n",
              "      filter: drop-shadow(0px 1px 2px rgba(0, 0, 0, 0.3));\n",
              "      fill: #FFFFFF;\n",
              "    }\n",
              "  </style>\n",
              "\n",
              "      <script>\n",
              "        const buttonEl =\n",
              "          document.querySelector('#df-282b51e7-13d7-49d3-bf7b-5c06b1e2e01c button.colab-df-convert');\n",
              "        buttonEl.style.display =\n",
              "          google.colab.kernel.accessAllowed ? 'block' : 'none';\n",
              "\n",
              "        async function convertToInteractive(key) {\n",
              "          const element = document.querySelector('#df-282b51e7-13d7-49d3-bf7b-5c06b1e2e01c');\n",
              "          const dataTable =\n",
              "            await google.colab.kernel.invokeFunction('convertToInteractive',\n",
              "                                                     [key], {});\n",
              "          if (!dataTable) return;\n",
              "\n",
              "          const docLinkHtml = 'Like what you see? Visit the ' +\n",
              "            '<a target=\"_blank\" href=https://colab.research.google.com/notebooks/data_table.ipynb>data table notebook</a>'\n",
              "            + ' to learn more about interactive tables.';\n",
              "          element.innerHTML = '';\n",
              "          dataTable['output_type'] = 'display_data';\n",
              "          await google.colab.output.renderOutput(dataTable, element);\n",
              "          const docLink = document.createElement('div');\n",
              "          docLink.innerHTML = docLinkHtml;\n",
              "          element.appendChild(docLink);\n",
              "        }\n",
              "      </script>\n",
              "    </div>\n",
              "  </div>\n",
              "  "
            ]
          },
          "metadata": {},
          "execution_count": 36
        }
      ]
    },
    {
      "cell_type": "markdown",
      "source": [
        "**Transformando dados categóricos em fictícios**\n",
        "\n",
        "Vamos examinar o info conjunto de dados para ter uma ideia geral do que ele contém."
      ],
      "metadata": {
        "id": "oDKwmW0qk-Eg"
      }
    },
    {
      "cell_type": "code",
      "source": [
        "social_N_data.info()"
      ],
      "metadata": {
        "colab": {
          "base_uri": "https://localhost:8080/"
        },
        "id": "3et8ZtcKlFQ0",
        "outputId": "b5c30750-3da3-4754-e6cf-9171ffb245be"
      },
      "execution_count": null,
      "outputs": [
        {
          "output_type": "stream",
          "name": "stdout",
          "text": [
            "<class 'pandas.core.frame.DataFrame'>\n",
            "RangeIndex: 400 entries, 0 to 399\n",
            "Data columns (total 4 columns):\n",
            " #   Column           Non-Null Count  Dtype \n",
            "---  ------           --------------  ----- \n",
            " 0   Gender           400 non-null    object\n",
            " 1   Age              400 non-null    int64 \n",
            " 2   EstimatedSalary  400 non-null    int64 \n",
            " 3   Purchased        400 non-null    int64 \n",
            "dtypes: int64(3), object(1)\n",
            "memory usage: 12.6+ KB\n"
          ]
        }
      ]
    },
    {
      "cell_type": "markdown",
      "source": [
        "A Gender variável é categórica. Para que o modelo funcione, vamos convertê-lo em variáveis dummy usando os Pandas get_dummies ou o método oneHotEncoder.\n",
        "\n",
        "Altere Gender para a variável dummy e descarte o primeiro dummy para evitar multicolinearidade:"
      ],
      "metadata": {
        "id": "YL5ankrOlLU2"
      }
    },
    {
      "cell_type": "code",
      "source": [
        "gender = pd.get_dummies(social_N_data['Gender'], drop_first=True)"
      ],
      "metadata": {
        "id": "xZY8Q5BIlZhh"
      },
      "execution_count": null,
      "outputs": []
    },
    {
      "cell_type": "code",
      "source": [
        "social_N_data.drop('Gender',axis=1,inplace=True)"
      ],
      "metadata": {
        "id": "WAPzB6zMlr1Z"
      },
      "execution_count": null,
      "outputs": []
    },
    {
      "cell_type": "code",
      "source": [
        "social_N_data = pd.concat([social_N_data,gender], axis=1)\n",
        "social_N_data.head(8)"
      ],
      "metadata": {
        "colab": {
          "base_uri": "https://localhost:8080/",
          "height": 300
        },
        "id": "TDbG8IYLlt_l",
        "outputId": "27e478bd-03fc-42b9-c4eb-442d0c106a85"
      },
      "execution_count": null,
      "outputs": [
        {
          "output_type": "execute_result",
          "data": {
            "text/plain": [
              "   Age  EstimatedSalary  Purchased  Male  Male\n",
              "0   19            19000          0     1     1\n",
              "1   35            20000          0     1     1\n",
              "2   26            43000          0     0     0\n",
              "3   27            57000          0     0     0\n",
              "4   19            76000          0     1     1\n",
              "5   27            58000          0     1     1\n",
              "6   27            84000          0     0     0\n",
              "7   32           150000          1     0     0"
            ],
            "text/html": [
              "\n",
              "  <div id=\"df-2e38cba2-f0e3-4ec4-9ecf-f3a45db08e42\">\n",
              "    <div class=\"colab-df-container\">\n",
              "      <div>\n",
              "<style scoped>\n",
              "    .dataframe tbody tr th:only-of-type {\n",
              "        vertical-align: middle;\n",
              "    }\n",
              "\n",
              "    .dataframe tbody tr th {\n",
              "        vertical-align: top;\n",
              "    }\n",
              "\n",
              "    .dataframe thead th {\n",
              "        text-align: right;\n",
              "    }\n",
              "</style>\n",
              "<table border=\"1\" class=\"dataframe\">\n",
              "  <thead>\n",
              "    <tr style=\"text-align: right;\">\n",
              "      <th></th>\n",
              "      <th>Age</th>\n",
              "      <th>EstimatedSalary</th>\n",
              "      <th>Purchased</th>\n",
              "      <th>Male</th>\n",
              "      <th>Male</th>\n",
              "    </tr>\n",
              "  </thead>\n",
              "  <tbody>\n",
              "    <tr>\n",
              "      <th>0</th>\n",
              "      <td>19</td>\n",
              "      <td>19000</td>\n",
              "      <td>0</td>\n",
              "      <td>1</td>\n",
              "      <td>1</td>\n",
              "    </tr>\n",
              "    <tr>\n",
              "      <th>1</th>\n",
              "      <td>35</td>\n",
              "      <td>20000</td>\n",
              "      <td>0</td>\n",
              "      <td>1</td>\n",
              "      <td>1</td>\n",
              "    </tr>\n",
              "    <tr>\n",
              "      <th>2</th>\n",
              "      <td>26</td>\n",
              "      <td>43000</td>\n",
              "      <td>0</td>\n",
              "      <td>0</td>\n",
              "      <td>0</td>\n",
              "    </tr>\n",
              "    <tr>\n",
              "      <th>3</th>\n",
              "      <td>27</td>\n",
              "      <td>57000</td>\n",
              "      <td>0</td>\n",
              "      <td>0</td>\n",
              "      <td>0</td>\n",
              "    </tr>\n",
              "    <tr>\n",
              "      <th>4</th>\n",
              "      <td>19</td>\n",
              "      <td>76000</td>\n",
              "      <td>0</td>\n",
              "      <td>1</td>\n",
              "      <td>1</td>\n",
              "    </tr>\n",
              "    <tr>\n",
              "      <th>5</th>\n",
              "      <td>27</td>\n",
              "      <td>58000</td>\n",
              "      <td>0</td>\n",
              "      <td>1</td>\n",
              "      <td>1</td>\n",
              "    </tr>\n",
              "    <tr>\n",
              "      <th>6</th>\n",
              "      <td>27</td>\n",
              "      <td>84000</td>\n",
              "      <td>0</td>\n",
              "      <td>0</td>\n",
              "      <td>0</td>\n",
              "    </tr>\n",
              "    <tr>\n",
              "      <th>7</th>\n",
              "      <td>32</td>\n",
              "      <td>150000</td>\n",
              "      <td>1</td>\n",
              "      <td>0</td>\n",
              "      <td>0</td>\n",
              "    </tr>\n",
              "  </tbody>\n",
              "</table>\n",
              "</div>\n",
              "      <button class=\"colab-df-convert\" onclick=\"convertToInteractive('df-2e38cba2-f0e3-4ec4-9ecf-f3a45db08e42')\"\n",
              "              title=\"Convert this dataframe to an interactive table.\"\n",
              "              style=\"display:none;\">\n",
              "        \n",
              "  <svg xmlns=\"http://www.w3.org/2000/svg\" height=\"24px\"viewBox=\"0 0 24 24\"\n",
              "       width=\"24px\">\n",
              "    <path d=\"M0 0h24v24H0V0z\" fill=\"none\"/>\n",
              "    <path d=\"M18.56 5.44l.94 2.06.94-2.06 2.06-.94-2.06-.94-.94-2.06-.94 2.06-2.06.94zm-11 1L8.5 8.5l.94-2.06 2.06-.94-2.06-.94L8.5 2.5l-.94 2.06-2.06.94zm10 10l.94 2.06.94-2.06 2.06-.94-2.06-.94-.94-2.06-.94 2.06-2.06.94z\"/><path d=\"M17.41 7.96l-1.37-1.37c-.4-.4-.92-.59-1.43-.59-.52 0-1.04.2-1.43.59L10.3 9.45l-7.72 7.72c-.78.78-.78 2.05 0 2.83L4 21.41c.39.39.9.59 1.41.59.51 0 1.02-.2 1.41-.59l7.78-7.78 2.81-2.81c.8-.78.8-2.07 0-2.86zM5.41 20L4 18.59l7.72-7.72 1.47 1.35L5.41 20z\"/>\n",
              "  </svg>\n",
              "      </button>\n",
              "      \n",
              "  <style>\n",
              "    .colab-df-container {\n",
              "      display:flex;\n",
              "      flex-wrap:wrap;\n",
              "      gap: 12px;\n",
              "    }\n",
              "\n",
              "    .colab-df-convert {\n",
              "      background-color: #E8F0FE;\n",
              "      border: none;\n",
              "      border-radius: 50%;\n",
              "      cursor: pointer;\n",
              "      display: none;\n",
              "      fill: #1967D2;\n",
              "      height: 32px;\n",
              "      padding: 0 0 0 0;\n",
              "      width: 32px;\n",
              "    }\n",
              "\n",
              "    .colab-df-convert:hover {\n",
              "      background-color: #E2EBFA;\n",
              "      box-shadow: 0px 1px 2px rgba(60, 64, 67, 0.3), 0px 1px 3px 1px rgba(60, 64, 67, 0.15);\n",
              "      fill: #174EA6;\n",
              "    }\n",
              "\n",
              "    [theme=dark] .colab-df-convert {\n",
              "      background-color: #3B4455;\n",
              "      fill: #D2E3FC;\n",
              "    }\n",
              "\n",
              "    [theme=dark] .colab-df-convert:hover {\n",
              "      background-color: #434B5C;\n",
              "      box-shadow: 0px 1px 3px 1px rgba(0, 0, 0, 0.15);\n",
              "      filter: drop-shadow(0px 1px 2px rgba(0, 0, 0, 0.3));\n",
              "      fill: #FFFFFF;\n",
              "    }\n",
              "  </style>\n",
              "\n",
              "      <script>\n",
              "        const buttonEl =\n",
              "          document.querySelector('#df-2e38cba2-f0e3-4ec4-9ecf-f3a45db08e42 button.colab-df-convert');\n",
              "        buttonEl.style.display =\n",
              "          google.colab.kernel.accessAllowed ? 'block' : 'none';\n",
              "\n",
              "        async function convertToInteractive(key) {\n",
              "          const element = document.querySelector('#df-2e38cba2-f0e3-4ec4-9ecf-f3a45db08e42');\n",
              "          const dataTable =\n",
              "            await google.colab.kernel.invokeFunction('convertToInteractive',\n",
              "                                                     [key], {});\n",
              "          if (!dataTable) return;\n",
              "\n",
              "          const docLinkHtml = 'Like what you see? Visit the ' +\n",
              "            '<a target=\"_blank\" href=https://colab.research.google.com/notebooks/data_table.ipynb>data table notebook</a>'\n",
              "            + ' to learn more about interactive tables.';\n",
              "          element.innerHTML = '';\n",
              "          dataTable['output_type'] = 'display_data';\n",
              "          await google.colab.output.renderOutput(dataTable, element);\n",
              "          const docLink = document.createElement('div');\n",
              "          docLink.innerHTML = docLinkHtml;\n",
              "          element.appendChild(docLink);\n",
              "        }\n",
              "      </script>\n",
              "    </div>\n",
              "  </div>\n",
              "  "
            ]
          },
          "metadata": {},
          "execution_count": 43
        }
      ]
    },
    {
      "cell_type": "markdown",
      "source": [
        "Quando o valor Masculino é 1, significa que o gênero é masculino, e quando o valor é 0, o gênero é feminino. Não exigimos as variáveis ​​Feminino e Sexo no conjunto de dados, pois uma pode ser usada para prever a outra.\n",
        "\n"
      ],
      "metadata": {
        "id": "2k1VQ9U4l8Yb"
      }
    },
    {
      "cell_type": "markdown",
      "source": [
        "**Dividindo os dados em variáveis ​​independentes (X) e dependentes (y)**\n",
        "\n",
        "Divida os dados em variáveis ​​independentes e dependentes."
      ],
      "metadata": {
        "id": "BNX9bCHNmCcU"
      }
    },
    {
      "cell_type": "code",
      "source": [
        "X = social_N_data.iloc[:,[0,1,3]] # Age, EstimatedSalary and Male\n",
        "X.head()"
      ],
      "metadata": {
        "colab": {
          "base_uri": "https://localhost:8080/",
          "height": 206
        },
        "id": "yT3JHvm0l-A3",
        "outputId": "395d0174-4b61-434f-a8d3-85edfa0295af"
      },
      "execution_count": null,
      "outputs": [
        {
          "output_type": "execute_result",
          "data": {
            "text/plain": [
              "   Age  EstimatedSalary  Male\n",
              "0   19            19000     1\n",
              "1   35            20000     1\n",
              "2   26            43000     0\n",
              "3   27            57000     0\n",
              "4   19            76000     1"
            ],
            "text/html": [
              "\n",
              "  <div id=\"df-9c6eebae-785c-4fd9-ab75-0dc6257d9c4b\">\n",
              "    <div class=\"colab-df-container\">\n",
              "      <div>\n",
              "<style scoped>\n",
              "    .dataframe tbody tr th:only-of-type {\n",
              "        vertical-align: middle;\n",
              "    }\n",
              "\n",
              "    .dataframe tbody tr th {\n",
              "        vertical-align: top;\n",
              "    }\n",
              "\n",
              "    .dataframe thead th {\n",
              "        text-align: right;\n",
              "    }\n",
              "</style>\n",
              "<table border=\"1\" class=\"dataframe\">\n",
              "  <thead>\n",
              "    <tr style=\"text-align: right;\">\n",
              "      <th></th>\n",
              "      <th>Age</th>\n",
              "      <th>EstimatedSalary</th>\n",
              "      <th>Male</th>\n",
              "    </tr>\n",
              "  </thead>\n",
              "  <tbody>\n",
              "    <tr>\n",
              "      <th>0</th>\n",
              "      <td>19</td>\n",
              "      <td>19000</td>\n",
              "      <td>1</td>\n",
              "    </tr>\n",
              "    <tr>\n",
              "      <th>1</th>\n",
              "      <td>35</td>\n",
              "      <td>20000</td>\n",
              "      <td>1</td>\n",
              "    </tr>\n",
              "    <tr>\n",
              "      <th>2</th>\n",
              "      <td>26</td>\n",
              "      <td>43000</td>\n",
              "      <td>0</td>\n",
              "    </tr>\n",
              "    <tr>\n",
              "      <th>3</th>\n",
              "      <td>27</td>\n",
              "      <td>57000</td>\n",
              "      <td>0</td>\n",
              "    </tr>\n",
              "    <tr>\n",
              "      <th>4</th>\n",
              "      <td>19</td>\n",
              "      <td>76000</td>\n",
              "      <td>1</td>\n",
              "    </tr>\n",
              "  </tbody>\n",
              "</table>\n",
              "</div>\n",
              "      <button class=\"colab-df-convert\" onclick=\"convertToInteractive('df-9c6eebae-785c-4fd9-ab75-0dc6257d9c4b')\"\n",
              "              title=\"Convert this dataframe to an interactive table.\"\n",
              "              style=\"display:none;\">\n",
              "        \n",
              "  <svg xmlns=\"http://www.w3.org/2000/svg\" height=\"24px\"viewBox=\"0 0 24 24\"\n",
              "       width=\"24px\">\n",
              "    <path d=\"M0 0h24v24H0V0z\" fill=\"none\"/>\n",
              "    <path d=\"M18.56 5.44l.94 2.06.94-2.06 2.06-.94-2.06-.94-.94-2.06-.94 2.06-2.06.94zm-11 1L8.5 8.5l.94-2.06 2.06-.94-2.06-.94L8.5 2.5l-.94 2.06-2.06.94zm10 10l.94 2.06.94-2.06 2.06-.94-2.06-.94-.94-2.06-.94 2.06-2.06.94z\"/><path d=\"M17.41 7.96l-1.37-1.37c-.4-.4-.92-.59-1.43-.59-.52 0-1.04.2-1.43.59L10.3 9.45l-7.72 7.72c-.78.78-.78 2.05 0 2.83L4 21.41c.39.39.9.59 1.41.59.51 0 1.02-.2 1.41-.59l7.78-7.78 2.81-2.81c.8-.78.8-2.07 0-2.86zM5.41 20L4 18.59l7.72-7.72 1.47 1.35L5.41 20z\"/>\n",
              "  </svg>\n",
              "      </button>\n",
              "      \n",
              "  <style>\n",
              "    .colab-df-container {\n",
              "      display:flex;\n",
              "      flex-wrap:wrap;\n",
              "      gap: 12px;\n",
              "    }\n",
              "\n",
              "    .colab-df-convert {\n",
              "      background-color: #E8F0FE;\n",
              "      border: none;\n",
              "      border-radius: 50%;\n",
              "      cursor: pointer;\n",
              "      display: none;\n",
              "      fill: #1967D2;\n",
              "      height: 32px;\n",
              "      padding: 0 0 0 0;\n",
              "      width: 32px;\n",
              "    }\n",
              "\n",
              "    .colab-df-convert:hover {\n",
              "      background-color: #E2EBFA;\n",
              "      box-shadow: 0px 1px 2px rgba(60, 64, 67, 0.3), 0px 1px 3px 1px rgba(60, 64, 67, 0.15);\n",
              "      fill: #174EA6;\n",
              "    }\n",
              "\n",
              "    [theme=dark] .colab-df-convert {\n",
              "      background-color: #3B4455;\n",
              "      fill: #D2E3FC;\n",
              "    }\n",
              "\n",
              "    [theme=dark] .colab-df-convert:hover {\n",
              "      background-color: #434B5C;\n",
              "      box-shadow: 0px 1px 3px 1px rgba(0, 0, 0, 0.15);\n",
              "      filter: drop-shadow(0px 1px 2px rgba(0, 0, 0, 0.3));\n",
              "      fill: #FFFFFF;\n",
              "    }\n",
              "  </style>\n",
              "\n",
              "      <script>\n",
              "        const buttonEl =\n",
              "          document.querySelector('#df-9c6eebae-785c-4fd9-ab75-0dc6257d9c4b button.colab-df-convert');\n",
              "        buttonEl.style.display =\n",
              "          google.colab.kernel.accessAllowed ? 'block' : 'none';\n",
              "\n",
              "        async function convertToInteractive(key) {\n",
              "          const element = document.querySelector('#df-9c6eebae-785c-4fd9-ab75-0dc6257d9c4b');\n",
              "          const dataTable =\n",
              "            await google.colab.kernel.invokeFunction('convertToInteractive',\n",
              "                                                     [key], {});\n",
              "          if (!dataTable) return;\n",
              "\n",
              "          const docLinkHtml = 'Like what you see? Visit the ' +\n",
              "            '<a target=\"_blank\" href=https://colab.research.google.com/notebooks/data_table.ipynb>data table notebook</a>'\n",
              "            + ' to learn more about interactive tables.';\n",
              "          element.innerHTML = '';\n",
              "          dataTable['output_type'] = 'display_data';\n",
              "          await google.colab.output.renderOutput(dataTable, element);\n",
              "          const docLink = document.createElement('div');\n",
              "          docLink.innerHTML = docLinkHtml;\n",
              "          element.appendChild(docLink);\n",
              "        }\n",
              "      </script>\n",
              "    </div>\n",
              "  </div>\n",
              "  "
            ]
          },
          "metadata": {},
          "execution_count": 44
        }
      ]
    },
    {
      "cell_type": "code",
      "source": [
        "y = social_N_data.iloc[:, 2] # Purchased\n",
        "y\n"
      ],
      "metadata": {
        "colab": {
          "base_uri": "https://localhost:8080/"
        },
        "id": "_7liduUsmM-r",
        "outputId": "7729f847-44de-44f3-c95d-a3168781ba37"
      },
      "execution_count": null,
      "outputs": [
        {
          "output_type": "execute_result",
          "data": {
            "text/plain": [
              "0      0\n",
              "1      0\n",
              "2      0\n",
              "3      0\n",
              "4      0\n",
              "      ..\n",
              "395    1\n",
              "396    1\n",
              "397    1\n",
              "398    0\n",
              "399    1\n",
              "Name: Purchased, Length: 400, dtype: int64"
            ]
          },
          "metadata": {},
          "execution_count": 57
        }
      ]
    },
    {
      "cell_type": "markdown",
      "source": [
        "**Dimensionamento de recursos**\n",
        "\n",
        "**O dimensionamento de recursos** é um método usado para normalizar o intervalo de variáveis ​​independentes. O método permite que as variáveis ​​independentes estejam no mesmo intervalo.\n",
        "\n",
        "Ao trabalhar com grandes conjuntos de dados, o dimensionamento desempenha um papel significativo na melhoria do desempenho do modelo.\n",
        "\n",
        "Nos dados, vamos importar o módulo StandardScaler Scikit-learn preprocessing e usá-lo para transformar os dados. Por exemplo, existe uma grande diferença entre os valores da variável Age e os de EstimatedSalary."
      ],
      "metadata": {
        "id": "TfmxUaCom6Hj"
      }
    },
    {
      "cell_type": "code",
      "source": [
        "from sklearn.preprocessing import StandardScaler\n",
        "sc = StandardScaler()\n",
        "X = sc.fit_transform(X)\n",
        "X"
      ],
      "metadata": {
        "colab": {
          "base_uri": "https://localhost:8080/"
        },
        "id": "xl46EUnTnLHM",
        "outputId": "4a12b9d5-66e9-4e95-c116-8861563e6343"
      },
      "execution_count": null,
      "outputs": [
        {
          "output_type": "execute_result",
          "data": {
            "text/plain": [
              "array([[-1.78179743, -1.49004624,  1.02020406],\n",
              "       [-0.25358736, -1.46068138,  1.02020406],\n",
              "       [-1.11320552, -0.78528968, -0.98019606],\n",
              "       ...,\n",
              "       [ 1.17910958, -1.46068138, -0.98019606],\n",
              "       [-0.15807423, -1.07893824,  1.02020406],\n",
              "       [ 1.08359645, -0.99084367, -0.98019606]])"
            ]
          },
          "metadata": {},
          "execution_count": 52
        }
      ]
    },
    {
      "cell_type": "markdown",
      "source": [
        "**Dividindo o conjunto de dados em conjuntos de treinamento e teste**\n",
        "\n",
        "Divida o conjunto de dados em conjuntos de treinamento e teste usando a função train_test_split."
      ],
      "metadata": {
        "id": "j9qh7ZNEnV1g"
      }
    },
    {
      "cell_type": "code",
      "source": [
        "from sklearn.model_selection import train_test_split \n",
        "X_train, X_test, y_train, y_test = train_test_split(X, y, test_size=0.30, random_state=1)\n",
        "\n",
        "print(X_train.shape)\n",
        "print(X_test.shape)\n",
        "print(y_train.shape)\n",
        "print(y_test.shape)"
      ],
      "metadata": {
        "colab": {
          "base_uri": "https://localhost:8080/"
        },
        "id": "xoSamIenneK2",
        "outputId": "d5fa5eec-5b9f-4a8c-a92f-1dceb86b32d6"
      },
      "execution_count": null,
      "outputs": [
        {
          "output_type": "stream",
          "name": "stdout",
          "text": [
            "(280, 3)\n",
            "(120, 3)\n",
            "(280,)\n",
            "(120,)\n"
          ]
        }
      ]
    },
    {
      "cell_type": "markdown",
      "source": [
        "**Ajustando o modelo de regressão logística e prevendo os resultados do teste**\n",
        "\n",
        "Agora que o conjunto de dados está bem preparado, podemos treinar o modelo importando a classe LogisticRegression do módulo linear_model Scikit-learn.\n",
        "\n",
        "O treinamento é feito chamando o médodo fit e passando os dados de treinamento."
      ],
      "metadata": {
        "id": "22r7gg0SnkNr"
      }
    },
    {
      "cell_type": "code",
      "source": [
        "from sklearn.linear_model import LogisticRegression  \n",
        "classifier = LogisticRegression()\n",
        "classifier.fit(X_train, y_train)"
      ],
      "metadata": {
        "colab": {
          "base_uri": "https://localhost:8080/",
          "height": 74
        },
        "id": "Q7Jy6eiqnyvN",
        "outputId": "f4b63af2-6589-4528-9df4-e93e989403e4"
      },
      "execution_count": null,
      "outputs": [
        {
          "output_type": "execute_result",
          "data": {
            "text/plain": [
              "LogisticRegression()"
            ],
            "text/html": [
              "<style>#sk-container-id-1 {color: black;background-color: white;}#sk-container-id-1 pre{padding: 0;}#sk-container-id-1 div.sk-toggleable {background-color: white;}#sk-container-id-1 label.sk-toggleable__label {cursor: pointer;display: block;width: 100%;margin-bottom: 0;padding: 0.3em;box-sizing: border-box;text-align: center;}#sk-container-id-1 label.sk-toggleable__label-arrow:before {content: \"▸\";float: left;margin-right: 0.25em;color: #696969;}#sk-container-id-1 label.sk-toggleable__label-arrow:hover:before {color: black;}#sk-container-id-1 div.sk-estimator:hover label.sk-toggleable__label-arrow:before {color: black;}#sk-container-id-1 div.sk-toggleable__content {max-height: 0;max-width: 0;overflow: hidden;text-align: left;background-color: #f0f8ff;}#sk-container-id-1 div.sk-toggleable__content pre {margin: 0.2em;color: black;border-radius: 0.25em;background-color: #f0f8ff;}#sk-container-id-1 input.sk-toggleable__control:checked~div.sk-toggleable__content {max-height: 200px;max-width: 100%;overflow: auto;}#sk-container-id-1 input.sk-toggleable__control:checked~label.sk-toggleable__label-arrow:before {content: \"▾\";}#sk-container-id-1 div.sk-estimator input.sk-toggleable__control:checked~label.sk-toggleable__label {background-color: #d4ebff;}#sk-container-id-1 div.sk-label input.sk-toggleable__control:checked~label.sk-toggleable__label {background-color: #d4ebff;}#sk-container-id-1 input.sk-hidden--visually {border: 0;clip: rect(1px 1px 1px 1px);clip: rect(1px, 1px, 1px, 1px);height: 1px;margin: -1px;overflow: hidden;padding: 0;position: absolute;width: 1px;}#sk-container-id-1 div.sk-estimator {font-family: monospace;background-color: #f0f8ff;border: 1px dotted black;border-radius: 0.25em;box-sizing: border-box;margin-bottom: 0.5em;}#sk-container-id-1 div.sk-estimator:hover {background-color: #d4ebff;}#sk-container-id-1 div.sk-parallel-item::after {content: \"\";width: 100%;border-bottom: 1px solid gray;flex-grow: 1;}#sk-container-id-1 div.sk-label:hover label.sk-toggleable__label {background-color: #d4ebff;}#sk-container-id-1 div.sk-serial::before {content: \"\";position: absolute;border-left: 1px solid gray;box-sizing: border-box;top: 0;bottom: 0;left: 50%;z-index: 0;}#sk-container-id-1 div.sk-serial {display: flex;flex-direction: column;align-items: center;background-color: white;padding-right: 0.2em;padding-left: 0.2em;position: relative;}#sk-container-id-1 div.sk-item {position: relative;z-index: 1;}#sk-container-id-1 div.sk-parallel {display: flex;align-items: stretch;justify-content: center;background-color: white;position: relative;}#sk-container-id-1 div.sk-item::before, #sk-container-id-1 div.sk-parallel-item::before {content: \"\";position: absolute;border-left: 1px solid gray;box-sizing: border-box;top: 0;bottom: 0;left: 50%;z-index: -1;}#sk-container-id-1 div.sk-parallel-item {display: flex;flex-direction: column;z-index: 1;position: relative;background-color: white;}#sk-container-id-1 div.sk-parallel-item:first-child::after {align-self: flex-end;width: 50%;}#sk-container-id-1 div.sk-parallel-item:last-child::after {align-self: flex-start;width: 50%;}#sk-container-id-1 div.sk-parallel-item:only-child::after {width: 0;}#sk-container-id-1 div.sk-dashed-wrapped {border: 1px dashed gray;margin: 0 0.4em 0.5em 0.4em;box-sizing: border-box;padding-bottom: 0.4em;background-color: white;}#sk-container-id-1 div.sk-label label {font-family: monospace;font-weight: bold;display: inline-block;line-height: 1.2em;}#sk-container-id-1 div.sk-label-container {text-align: center;}#sk-container-id-1 div.sk-container {/* jupyter's `normalize.less` sets `[hidden] { display: none; }` but bootstrap.min.css set `[hidden] { display: none !important; }` so we also need the `!important` here to be able to override the default hidden behavior on the sphinx rendered scikit-learn.org. See: https://github.com/scikit-learn/scikit-learn/issues/21755 */display: inline-block !important;position: relative;}#sk-container-id-1 div.sk-text-repr-fallback {display: none;}</style><div id=\"sk-container-id-1\" class=\"sk-top-container\"><div class=\"sk-text-repr-fallback\"><pre>LogisticRegression()</pre><b>In a Jupyter environment, please rerun this cell to show the HTML representation or trust the notebook. <br />On GitHub, the HTML representation is unable to render, please try loading this page with nbviewer.org.</b></div><div class=\"sk-container\" hidden><div class=\"sk-item\"><div class=\"sk-estimator sk-toggleable\"><input class=\"sk-toggleable__control sk-hidden--visually\" id=\"sk-estimator-id-1\" type=\"checkbox\" checked><label for=\"sk-estimator-id-1\" class=\"sk-toggleable__label sk-toggleable__label-arrow\">LogisticRegression</label><div class=\"sk-toggleable__content\"><pre>LogisticRegression()</pre></div></div></div></div></div>"
            ]
          },
          "metadata": {},
          "execution_count": 54
        }
      ]
    },
    {
      "cell_type": "markdown",
      "source": [
        "O modelo agora é treinado no conjunto de treinamento. Vamos realizar a previsão no conjunto de teste usando método predict.\n",
        "\n"
      ],
      "metadata": {
        "id": "bY45Fqrnn18s"
      }
    },
    {
      "cell_type": "code",
      "source": [
        "y_pred = classifier.predict(X_test)"
      ],
      "metadata": {
        "id": "qqg_FGGin4fN"
      },
      "execution_count": null,
      "outputs": []
    },
    {
      "cell_type": "markdown",
      "source": [
        "Vamos criar um Pandas DataFrame e comparar os valores previstos e reais.  \n",
        "\n"
      ],
      "metadata": {
        "id": "aSoxE6QSn6Op"
      }
    },
    {
      "cell_type": "code",
      "source": [
        "result = pd.DataFrame({'Actual' : y_test, 'Predicted' : y_pred})\n",
        "result"
      ],
      "metadata": {
        "colab": {
          "base_uri": "https://localhost:8080/",
          "height": 423
        },
        "id": "ZrrM011Dn9LC",
        "outputId": "f3b66ef8-9826-4072-ff8a-fe798ff1205d"
      },
      "execution_count": null,
      "outputs": [
        {
          "output_type": "execute_result",
          "data": {
            "text/plain": [
              "     Actual  Predicted\n",
              "398       0          0\n",
              "125       0          0\n",
              "328       1          1\n",
              "339       1          1\n",
              "172       0          0\n",
              "..      ...        ...\n",
              "91        0          0\n",
              "322       0          0\n",
              "248       0          0\n",
              "186       0          0\n",
              "395       1          0\n",
              "\n",
              "[120 rows x 2 columns]"
            ],
            "text/html": [
              "\n",
              "  <div id=\"df-89aeae54-1a3d-4bd5-9242-847145bdf8ca\">\n",
              "    <div class=\"colab-df-container\">\n",
              "      <div>\n",
              "<style scoped>\n",
              "    .dataframe tbody tr th:only-of-type {\n",
              "        vertical-align: middle;\n",
              "    }\n",
              "\n",
              "    .dataframe tbody tr th {\n",
              "        vertical-align: top;\n",
              "    }\n",
              "\n",
              "    .dataframe thead th {\n",
              "        text-align: right;\n",
              "    }\n",
              "</style>\n",
              "<table border=\"1\" class=\"dataframe\">\n",
              "  <thead>\n",
              "    <tr style=\"text-align: right;\">\n",
              "      <th></th>\n",
              "      <th>Actual</th>\n",
              "      <th>Predicted</th>\n",
              "    </tr>\n",
              "  </thead>\n",
              "  <tbody>\n",
              "    <tr>\n",
              "      <th>398</th>\n",
              "      <td>0</td>\n",
              "      <td>0</td>\n",
              "    </tr>\n",
              "    <tr>\n",
              "      <th>125</th>\n",
              "      <td>0</td>\n",
              "      <td>0</td>\n",
              "    </tr>\n",
              "    <tr>\n",
              "      <th>328</th>\n",
              "      <td>1</td>\n",
              "      <td>1</td>\n",
              "    </tr>\n",
              "    <tr>\n",
              "      <th>339</th>\n",
              "      <td>1</td>\n",
              "      <td>1</td>\n",
              "    </tr>\n",
              "    <tr>\n",
              "      <th>172</th>\n",
              "      <td>0</td>\n",
              "      <td>0</td>\n",
              "    </tr>\n",
              "    <tr>\n",
              "      <th>...</th>\n",
              "      <td>...</td>\n",
              "      <td>...</td>\n",
              "    </tr>\n",
              "    <tr>\n",
              "      <th>91</th>\n",
              "      <td>0</td>\n",
              "      <td>0</td>\n",
              "    </tr>\n",
              "    <tr>\n",
              "      <th>322</th>\n",
              "      <td>0</td>\n",
              "      <td>0</td>\n",
              "    </tr>\n",
              "    <tr>\n",
              "      <th>248</th>\n",
              "      <td>0</td>\n",
              "      <td>0</td>\n",
              "    </tr>\n",
              "    <tr>\n",
              "      <th>186</th>\n",
              "      <td>0</td>\n",
              "      <td>0</td>\n",
              "    </tr>\n",
              "    <tr>\n",
              "      <th>395</th>\n",
              "      <td>1</td>\n",
              "      <td>0</td>\n",
              "    </tr>\n",
              "  </tbody>\n",
              "</table>\n",
              "<p>120 rows × 2 columns</p>\n",
              "</div>\n",
              "      <button class=\"colab-df-convert\" onclick=\"convertToInteractive('df-89aeae54-1a3d-4bd5-9242-847145bdf8ca')\"\n",
              "              title=\"Convert this dataframe to an interactive table.\"\n",
              "              style=\"display:none;\">\n",
              "        \n",
              "  <svg xmlns=\"http://www.w3.org/2000/svg\" height=\"24px\"viewBox=\"0 0 24 24\"\n",
              "       width=\"24px\">\n",
              "    <path d=\"M0 0h24v24H0V0z\" fill=\"none\"/>\n",
              "    <path d=\"M18.56 5.44l.94 2.06.94-2.06 2.06-.94-2.06-.94-.94-2.06-.94 2.06-2.06.94zm-11 1L8.5 8.5l.94-2.06 2.06-.94-2.06-.94L8.5 2.5l-.94 2.06-2.06.94zm10 10l.94 2.06.94-2.06 2.06-.94-2.06-.94-.94-2.06-.94 2.06-2.06.94z\"/><path d=\"M17.41 7.96l-1.37-1.37c-.4-.4-.92-.59-1.43-.59-.52 0-1.04.2-1.43.59L10.3 9.45l-7.72 7.72c-.78.78-.78 2.05 0 2.83L4 21.41c.39.39.9.59 1.41.59.51 0 1.02-.2 1.41-.59l7.78-7.78 2.81-2.81c.8-.78.8-2.07 0-2.86zM5.41 20L4 18.59l7.72-7.72 1.47 1.35L5.41 20z\"/>\n",
              "  </svg>\n",
              "      </button>\n",
              "      \n",
              "  <style>\n",
              "    .colab-df-container {\n",
              "      display:flex;\n",
              "      flex-wrap:wrap;\n",
              "      gap: 12px;\n",
              "    }\n",
              "\n",
              "    .colab-df-convert {\n",
              "      background-color: #E8F0FE;\n",
              "      border: none;\n",
              "      border-radius: 50%;\n",
              "      cursor: pointer;\n",
              "      display: none;\n",
              "      fill: #1967D2;\n",
              "      height: 32px;\n",
              "      padding: 0 0 0 0;\n",
              "      width: 32px;\n",
              "    }\n",
              "\n",
              "    .colab-df-convert:hover {\n",
              "      background-color: #E2EBFA;\n",
              "      box-shadow: 0px 1px 2px rgba(60, 64, 67, 0.3), 0px 1px 3px 1px rgba(60, 64, 67, 0.15);\n",
              "      fill: #174EA6;\n",
              "    }\n",
              "\n",
              "    [theme=dark] .colab-df-convert {\n",
              "      background-color: #3B4455;\n",
              "      fill: #D2E3FC;\n",
              "    }\n",
              "\n",
              "    [theme=dark] .colab-df-convert:hover {\n",
              "      background-color: #434B5C;\n",
              "      box-shadow: 0px 1px 3px 1px rgba(0, 0, 0, 0.15);\n",
              "      filter: drop-shadow(0px 1px 2px rgba(0, 0, 0, 0.3));\n",
              "      fill: #FFFFFF;\n",
              "    }\n",
              "  </style>\n",
              "\n",
              "      <script>\n",
              "        const buttonEl =\n",
              "          document.querySelector('#df-89aeae54-1a3d-4bd5-9242-847145bdf8ca button.colab-df-convert');\n",
              "        buttonEl.style.display =\n",
              "          google.colab.kernel.accessAllowed ? 'block' : 'none';\n",
              "\n",
              "        async function convertToInteractive(key) {\n",
              "          const element = document.querySelector('#df-89aeae54-1a3d-4bd5-9242-847145bdf8ca');\n",
              "          const dataTable =\n",
              "            await google.colab.kernel.invokeFunction('convertToInteractive',\n",
              "                                                     [key], {});\n",
              "          if (!dataTable) return;\n",
              "\n",
              "          const docLinkHtml = 'Like what you see? Visit the ' +\n",
              "            '<a target=\"_blank\" href=https://colab.research.google.com/notebooks/data_table.ipynb>data table notebook</a>'\n",
              "            + ' to learn more about interactive tables.';\n",
              "          element.innerHTML = '';\n",
              "          dataTable['output_type'] = 'display_data';\n",
              "          await google.colab.output.renderOutput(dataTable, element);\n",
              "          const docLink = document.createElement('div');\n",
              "          docLink.innerHTML = docLinkHtml;\n",
              "          element.appendChild(docLink);\n",
              "        }\n",
              "      </script>\n",
              "    </div>\n",
              "  </div>\n",
              "  "
            ]
          },
          "metadata": {},
          "execution_count": 56
        }
      ]
    },
    {
      "cell_type": "markdown",
      "source": [
        "Os atributos coef_ e intercept_ fornecem o coeficiente e a interceptação do modelo.\n",
        "\n"
      ],
      "metadata": {
        "id": "fgPBHgM0oFmV"
      }
    },
    {
      "cell_type": "code",
      "source": [
        "classifier.coef_"
      ],
      "metadata": {
        "colab": {
          "base_uri": "https://localhost:8080/"
        },
        "id": "gb6vU2kfoHi1",
        "outputId": "da0f3791-d581-4dfd-dc2a-04e359a4e3fe"
      },
      "execution_count": null,
      "outputs": [
        {
          "output_type": "execute_result",
          "data": {
            "text/plain": [
              "array([[2.36839196, 1.42929561, 0.20973787]])"
            ]
          },
          "metadata": {},
          "execution_count": 60
        }
      ]
    },
    {
      "cell_type": "code",
      "source": [
        "classifier.intercept_ "
      ],
      "metadata": {
        "colab": {
          "base_uri": "https://localhost:8080/"
        },
        "id": "WTdw8pmwoObI",
        "outputId": "e0fb6188-a80a-4506-8eb0-b2426b23db56"
      },
      "execution_count": null,
      "outputs": [
        {
          "output_type": "execute_result",
          "data": {
            "text/plain": [
              "array([-1.1352347])"
            ]
          },
          "metadata": {},
          "execution_count": 61
        }
      ]
    },
    {
      "cell_type": "markdown",
      "source": [
        "**Avaliando o modelo**\n",
        "Existem várias maneiras de verificar o desempenho do modelo.\n",
        "\n",
        "**Usando**\n",
        "predict_proba\n",
        "Ele retorna a matriz de probabilidades de que a saída prevista seja igual a zero ou um."
      ],
      "metadata": {
        "id": "6qKg6MARoQfS"
      }
    },
    {
      "cell_type": "code",
      "source": [
        "print(classifier.predict_proba(X))"
      ],
      "metadata": {
        "colab": {
          "base_uri": "https://localhost:8080/"
        },
        "id": "yEh07XbuoWlj",
        "outputId": "c99311fa-21ef-460b-ac2f-6d54c987ebfe"
      },
      "execution_count": null,
      "outputs": [
        {
          "output_type": "stream",
          "name": "stdout",
          "text": [
            "[[9.99305047e-01 6.94953436e-04]\n",
            " [9.73650395e-01 2.63496050e-02]\n",
            " [9.93938614e-01 6.06138563e-03]\n",
            " [9.86425967e-01 1.35740330e-02]\n",
            " [9.92449933e-01 7.55006749e-03]\n",
            " [9.78634880e-01 2.13651200e-02]\n",
            " [9.59015410e-01 4.09845897e-02]\n",
            " [3.21160956e-01 6.78839044e-01]\n",
            " [9.95160538e-01 4.83946203e-03]\n",
            " [8.94774017e-01 1.05225983e-01]\n",
            " [9.71990649e-01 2.80093506e-02]\n",
            " [9.91181077e-01 8.81892308e-03]\n",
            " [9.85694423e-01 1.43055770e-02]\n",
            " [9.87533664e-01 1.24663357e-02]\n",
            " [9.92255565e-01 7.74443464e-03]\n",
            " [9.20459783e-01 7.95402167e-02]\n",
            " [6.64896819e-01 3.35103181e-01]\n",
            " [7.49443667e-01 2.50556333e-01]\n",
            " [6.86862714e-01 3.13137286e-01]\n",
            " [6.70546154e-01 3.29453846e-01]\n",
            " [7.79633457e-01 2.20366543e-01]\n",
            " [5.24342635e-01 4.75657365e-01]\n",
            " [4.47060141e-01 5.52939859e-01]\n",
            " [8.43313433e-01 1.56686567e-01]\n",
            " [7.30142964e-01 2.69857036e-01]\n",
            " [7.09930944e-01 2.90069056e-01]\n",
            " [5.26688397e-01 4.73311603e-01]\n",
            " [7.09899857e-01 2.90100143e-01]\n",
            " [9.82040967e-01 1.79590333e-02]\n",
            " [9.90032335e-01 9.96766502e-03]\n",
            " [9.04478904e-01 9.55210964e-02]\n",
            " [7.16719057e-01 2.83280943e-01]\n",
            " [9.99366754e-01 6.33245900e-04]\n",
            " [9.90100683e-01 9.89931667e-03]\n",
            " [9.22822219e-01 7.71777814e-02]\n",
            " [9.64966938e-01 3.50330621e-02]\n",
            " [9.84416175e-01 1.55838249e-02]\n",
            " [9.71349095e-01 2.86509049e-02]\n",
            " [9.79818011e-01 2.01819893e-02]\n",
            " [9.95400407e-01 4.59959315e-03]\n",
            " [9.97438946e-01 2.56105394e-03]\n",
            " [9.60093093e-01 3.99069066e-02]\n",
            " [4.79048696e-01 5.20951304e-01]\n",
            " [9.92970022e-01 7.02997758e-03]\n",
            " [9.49140914e-01 5.08590862e-02]\n",
            " [9.98210717e-01 1.78928312e-03]\n",
            " [9.67561460e-01 3.24385403e-02]\n",
            " [9.88012641e-01 1.19873588e-02]\n",
            " [4.78510667e-01 5.21489333e-01]\n",
            " [8.84730029e-01 1.15269971e-01]\n",
            " [9.97561288e-01 2.43871155e-03]\n",
            " [9.98959971e-01 1.04002893e-03]\n",
            " [9.39474563e-01 6.05254374e-02]\n",
            " [9.80222710e-01 1.97772901e-02]\n",
            " [9.85852357e-01 1.41476427e-02]\n",
            " [9.93622045e-01 6.37795522e-03]\n",
            " [9.96198381e-01 3.80161932e-03]\n",
            " [9.38010384e-01 6.19896160e-02]\n",
            " [9.98687232e-01 1.31276769e-03]\n",
            " [6.53985245e-01 3.46014755e-01]\n",
            " [9.95589290e-01 4.41070957e-03]\n",
            " [9.55197887e-01 4.48021128e-02]\n",
            " [9.91942327e-01 8.05767262e-03]\n",
            " [5.22766880e-01 4.77233120e-01]\n",
            " [1.72233000e-02 9.82776700e-01]\n",
            " [9.89046004e-01 1.09539961e-02]\n",
            " [9.97849512e-01 2.15048757e-03]\n",
            " [9.84349886e-01 1.56501135e-02]\n",
            " [9.94320328e-01 5.67967207e-03]\n",
            " [9.48797055e-01 5.12029453e-02]\n",
            " [9.66217977e-01 3.37820232e-02]\n",
            " [9.98022020e-01 1.97798034e-03]\n",
            " [9.99322507e-01 6.77493145e-04]\n",
            " [6.40670407e-01 3.59329593e-01]\n",
            " [9.87533664e-01 1.24663357e-02]\n",
            " [4.93618838e-01 5.06381162e-01]\n",
            " [9.97789091e-01 2.21090929e-03]\n",
            " [9.98740933e-01 1.25906743e-03]\n",
            " [9.42707444e-01 5.72925556e-02]\n",
            " [9.97956375e-01 2.04362454e-03]\n",
            " [9.02242906e-01 9.77570935e-02]\n",
            " [8.55867872e-01 1.44132128e-01]\n",
            " [9.96938018e-01 3.06198203e-03]\n",
            " [6.80390486e-01 3.19609514e-01]\n",
            " [9.67624332e-01 3.23756684e-02]\n",
            " [6.94415646e-01 3.05584354e-01]\n",
            " [9.90329423e-01 9.67057665e-03]\n",
            " [9.47076251e-01 5.29237494e-02]\n",
            " [9.56281337e-01 4.37186633e-02]\n",
            " [9.12971356e-01 8.70286442e-02]\n",
            " [9.81838577e-01 1.81614231e-02]\n",
            " [7.56023304e-01 2.43976696e-01]\n",
            " [9.97143698e-01 2.85630212e-03]\n",
            " [9.93635693e-01 6.36430659e-03]\n",
            " [9.39474563e-01 6.05254374e-02]\n",
            " [9.53551675e-01 4.64483250e-02]\n",
            " [9.78528078e-01 2.14719217e-02]\n",
            " [7.04759736e-01 2.95240264e-01]\n",
            " [7.99814086e-01 2.00185914e-01]\n",
            " [9.92602134e-01 7.39786602e-03]\n",
            " [9.28592501e-01 7.14074986e-02]\n",
            " [9.72245635e-01 2.77543653e-02]\n",
            " [8.74099935e-01 1.25900065e-01]\n",
            " [2.82380689e-01 7.17619311e-01]\n",
            " [9.99503082e-01 4.96918221e-04]\n",
            " [9.89989693e-01 1.00103072e-02]\n",
            " [9.95659888e-01 4.34011226e-03]\n",
            " [9.25758909e-01 7.42410913e-02]\n",
            " [9.46617987e-01 5.33820131e-02]\n",
            " [6.96832044e-01 3.03167956e-01]\n",
            " [7.27858491e-01 2.72141509e-01]\n",
            " [8.07866988e-01 1.92133012e-01]\n",
            " [7.70325126e-01 2.29674874e-01]\n",
            " [8.43985563e-01 1.56014437e-01]\n",
            " [3.79386669e-01 6.20613331e-01]\n",
            " [7.16183219e-01 2.83816781e-01]\n",
            " [7.86035305e-01 2.13964695e-01]\n",
            " [8.84965090e-01 1.15034910e-01]\n",
            " [6.98815771e-01 3.01184229e-01]\n",
            " [6.49183583e-01 3.50816417e-01]\n",
            " [8.16758396e-01 1.83241604e-01]\n",
            " [7.26051101e-01 2.73948899e-01]\n",
            " [6.43293485e-01 3.56706515e-01]\n",
            " [9.02432902e-01 9.75670978e-02]\n",
            " [7.97506246e-01 2.02493754e-01]\n",
            " [8.02737918e-01 1.97262082e-01]\n",
            " [5.34299444e-01 4.65700556e-01]\n",
            " [9.94187176e-01 5.81282369e-03]\n",
            " [9.92359139e-01 7.64086060e-03]\n",
            " [9.67039311e-01 3.29606891e-02]\n",
            " [9.48804388e-01 5.11956122e-02]\n",
            " [9.73411870e-01 2.65881303e-02]\n",
            " [8.73094446e-01 1.26905554e-01]\n",
            " [9.94411961e-01 5.58803902e-03]\n",
            " [9.84383065e-01 1.56169346e-02]\n",
            " [9.89221808e-01 1.07781921e-02]\n",
            " [9.91998883e-01 8.00111701e-03]\n",
            " [7.48227162e-01 2.51772838e-01]\n",
            " [9.81580877e-01 1.84191229e-02]\n",
            " [9.99106209e-01 8.93791219e-04]\n",
            " [9.89022621e-01 1.09773788e-02]\n",
            " [9.97157318e-01 2.84268157e-03]\n",
            " [8.77903788e-01 1.22096212e-01]\n",
            " [8.63498726e-01 1.36501274e-01]\n",
            " [9.82800332e-01 1.71996681e-02]\n",
            " [9.73953833e-01 2.60461669e-02]\n",
            " [9.33952924e-01 6.60470756e-02]\n",
            " [9.04837800e-01 9.51622000e-02]\n",
            " [9.62531301e-01 3.74686989e-02]\n",
            " [9.91305651e-01 8.69434885e-03]\n",
            " [9.98120610e-01 1.87939027e-03]\n",
            " [7.69066444e-01 2.30933556e-01]\n",
            " [8.96976240e-01 1.03023760e-01]\n",
            " [9.27156855e-01 7.28431454e-02]\n",
            " [7.93363082e-01 2.06636918e-01]\n",
            " [9.94198752e-01 5.80124794e-03]\n",
            " [3.73879299e-01 6.26120701e-01]\n",
            " [9.34530865e-01 6.54691348e-02]\n",
            " [9.94652696e-01 5.34730378e-03]\n",
            " [4.70316018e-01 5.29683982e-01]\n",
            " [7.17187210e-01 2.82812790e-01]\n",
            " [9.49489827e-01 5.05101733e-02]\n",
            " [9.53959941e-01 4.60400585e-02]\n",
            " [9.45531257e-01 5.44687433e-02]\n",
            " [9.18714051e-01 8.12859487e-02]\n",
            " [9.93968331e-01 6.03166873e-03]\n",
            " [9.95933648e-01 4.06635179e-03]\n",
            " [8.68599767e-01 1.31400233e-01]\n",
            " [4.00010447e-01 5.99989553e-01]\n",
            " [9.85980885e-01 1.40191152e-02]\n",
            " [9.80593354e-01 1.94066457e-02]\n",
            " [4.62212387e-01 5.37787613e-01]\n",
            " [8.75654484e-01 1.24345516e-01]\n",
            " [9.64085428e-01 3.59145716e-02]\n",
            " [8.88238787e-01 1.11761213e-01]\n",
            " [9.98354297e-01 1.64570309e-03]\n",
            " [9.47645373e-01 5.23546271e-02]\n",
            " [9.96944592e-01 3.05540766e-03]\n",
            " [9.97457403e-01 2.54259651e-03]\n",
            " [9.87212459e-01 1.27875411e-02]\n",
            " [9.97021629e-01 2.97837085e-03]\n",
            " [9.42322732e-01 5.76772683e-02]\n",
            " [6.53985245e-01 3.46014755e-01]\n",
            " [9.56755991e-01 4.32440092e-02]\n",
            " [9.42823779e-01 5.71762209e-02]\n",
            " [9.29810387e-01 7.01896133e-02]\n",
            " [9.91998883e-01 8.00111701e-03]\n",
            " [9.73407963e-01 2.65920375e-02]\n",
            " [8.06449663e-01 1.93550337e-01]\n",
            " [9.90891834e-01 9.10816621e-03]\n",
            " [9.68070944e-01 3.19290558e-02]\n",
            " [9.99387123e-01 6.12877297e-04]\n",
            " [9.82040967e-01 1.79590333e-02]\n",
            " [9.94120849e-01 5.87915093e-03]\n",
            " [9.08635210e-01 9.13647903e-02]\n",
            " [9.46367571e-01 5.36324286e-02]\n",
            " [9.36071628e-01 6.39283721e-02]\n",
            " [9.98831435e-01 1.16856490e-03]\n",
            " [9.58002815e-01 4.19971849e-02]\n",
            " [9.71409036e-01 2.85909643e-02]\n",
            " [9.43328806e-01 5.66711939e-02]\n",
            " [1.38976895e-01 8.61023105e-01]\n",
            " [1.59709335e-01 8.40290665e-01]\n",
            " [6.29800117e-01 3.70199883e-01]\n",
            " [1.02174789e-02 9.89782521e-01]\n",
            " [5.45223497e-01 4.54776503e-01]\n",
            " [5.98849560e-03 9.94011504e-01]\n",
            " [2.27154178e-02 9.77284582e-01]\n",
            " [9.77592678e-02 9.02240732e-01]\n",
            " [8.11054823e-01 1.88945177e-01]\n",
            " [1.08960357e-01 8.91039643e-01]\n",
            " [3.36065914e-03 9.96639341e-01]\n",
            " [8.92111284e-02 9.10788872e-01]\n",
            " [8.82331731e-01 1.17668269e-01]\n",
            " [4.82435803e-01 5.17564197e-01]\n",
            " [4.87083164e-03 9.95129168e-01]\n",
            " [1.90606502e-01 8.09393498e-01]\n",
            " [5.11051915e-01 4.88948085e-01]\n",
            " [1.61246888e-01 8.38753112e-01]\n",
            " [9.27636904e-04 9.99072363e-01]\n",
            " [5.38329617e-01 4.61670383e-01]\n",
            " [6.52410938e-01 3.47589062e-01]\n",
            " [1.14331809e-01 8.85668191e-01]\n",
            " [4.12177478e-03 9.95878225e-01]\n",
            " [9.12959361e-01 8.70406390e-02]\n",
            " [8.54722228e-01 1.45277772e-01]\n",
            " [3.43894588e-01 6.56105412e-01]\n",
            " [2.77702574e-03 9.97222974e-01]\n",
            " [6.71637566e-01 3.28362434e-01]\n",
            " [4.81859800e-01 5.18140200e-01]\n",
            " [2.13968841e-01 7.86031159e-01]\n",
            " [8.55867872e-01 1.44132128e-01]\n",
            " [2.36322913e-01 7.63677087e-01]\n",
            " [8.88736106e-02 9.11126389e-01]\n",
            " [3.75002140e-01 6.24997860e-01]\n",
            " [2.05049023e-01 7.94950977e-01]\n",
            " [7.16183219e-01 2.83816781e-01]\n",
            " [7.42398047e-01 2.57601953e-01]\n",
            " [2.57044889e-01 7.42955111e-01]\n",
            " [5.45850280e-03 9.94541497e-01]\n",
            " [3.26676923e-02 9.67332308e-01]\n",
            " [7.84838671e-01 2.15161329e-01]\n",
            " [9.81402566e-02 9.01859743e-01]\n",
            " [1.41070445e-02 9.85892956e-01]\n",
            " [6.19962333e-01 3.80037667e-01]\n",
            " [7.55025221e-03 9.92449748e-01]\n",
            " [9.41034476e-01 5.89655236e-02]\n",
            " [5.33262315e-03 9.94667377e-01]\n",
            " [7.12846647e-01 2.87153353e-01]\n",
            " [6.89415258e-01 3.10584742e-01]\n",
            " [7.67776030e-01 2.32223970e-01]\n",
            " [8.59856669e-01 1.40143331e-01]\n",
            " [2.42141706e-02 9.75785829e-01]\n",
            " [1.52953709e-01 8.47046291e-01]\n",
            " [4.08218550e-01 5.91781450e-01]\n",
            " [5.98370294e-02 9.40162971e-01]\n",
            " [6.19962333e-01 3.80037667e-01]\n",
            " [7.16183219e-01 2.83816781e-01]\n",
            " [1.31051397e-02 9.86894860e-01]\n",
            " [5.25626841e-02 9.47437316e-01]\n",
            " [8.37100162e-01 1.62899838e-01]\n",
            " [1.39310923e-01 8.60689077e-01]\n",
            " [7.37649208e-03 9.92623508e-01]\n",
            " [8.63734885e-01 1.36265115e-01]\n",
            " [9.37113887e-02 9.06288611e-01]\n",
            " [2.23084259e-01 7.76915741e-01]\n",
            " [5.42429722e-01 4.57570278e-01]\n",
            " [7.09042176e-01 2.90957824e-01]\n",
            " [2.00395738e-02 9.79960426e-01]\n",
            " [6.80859145e-01 3.19140855e-01]\n",
            " [7.42427856e-02 9.25757214e-01]\n",
            " [2.29701560e-02 9.77029844e-01]\n",
            " [4.88425615e-02 9.51157439e-01]\n",
            " [2.88072826e-01 7.11927174e-01]\n",
            " [2.31592060e-01 7.68407940e-01]\n",
            " [2.57429629e-02 9.74257037e-01]\n",
            " [6.87925229e-01 3.12074771e-01]\n",
            " [8.23068687e-02 9.17693131e-01]\n",
            " [3.60790825e-01 6.39209175e-01]\n",
            " [4.91109383e-01 5.08890617e-01]\n",
            " [1.40086289e-02 9.85991371e-01]\n",
            " [8.68616996e-01 1.31383004e-01]\n",
            " [7.42426915e-01 2.57573085e-01]\n",
            " [5.35334661e-01 4.64665339e-01]\n",
            " [1.20132132e-02 9.87986787e-01]\n",
            " [6.25473450e-01 3.74526550e-01]\n",
            " [8.59838478e-01 1.40161522e-01]\n",
            " [2.05488106e-02 9.79451189e-01]\n",
            " [4.44240707e-01 5.55759293e-01]\n",
            " [7.58122228e-01 2.41877772e-01]\n",
            " [1.11060705e-01 8.88939295e-01]\n",
            " [7.91917601e-02 9.20808240e-01]\n",
            " [1.52891316e-01 8.47108684e-01]\n",
            " [6.82400052e-01 3.17599948e-01]\n",
            " [9.22458522e-01 7.75414776e-02]\n",
            " [8.80606965e-01 1.19393035e-01]\n",
            " [4.50573228e-01 5.49426772e-01]\n",
            " [1.62209531e-01 8.37790469e-01]\n",
            " [2.44379146e-01 7.55620854e-01]\n",
            " [4.97397413e-02 9.50260259e-01]\n",
            " [1.26838207e-01 8.73161793e-01]\n",
            " [1.68317159e-01 8.31682841e-01]\n",
            " [2.08518213e-01 7.91481787e-01]\n",
            " [6.63935385e-01 3.36064615e-01]\n",
            " [7.71932171e-01 2.28067829e-01]\n",
            " [6.45449289e-01 3.54550711e-01]\n",
            " [1.24323545e-02 9.87567645e-01]\n",
            " [6.98691999e-02 9.30130800e-01]\n",
            " [2.64331643e-01 7.35668357e-01]\n",
            " [8.90063440e-01 1.09936560e-01]\n",
            " [5.85918514e-01 4.14081486e-01]\n",
            " [3.81059951e-01 6.18940049e-01]\n",
            " [8.90063440e-01 1.09936560e-01]\n",
            " [1.45384241e-02 9.85461576e-01]\n",
            " [6.56563229e-01 3.43436771e-01]\n",
            " [6.93365379e-01 3.06634621e-01]\n",
            " [2.20004038e-02 9.77999596e-01]\n",
            " [8.94788230e-01 1.05211770e-01]\n",
            " [6.99269355e-01 3.00730645e-01]\n",
            " [8.46127284e-01 1.53872716e-01]\n",
            " [8.41708122e-03 9.91582919e-01]\n",
            " [6.63057390e-02 9.33694261e-01]\n",
            " [7.12846647e-01 2.87153353e-01]\n",
            " [6.61208692e-01 3.38791308e-01]\n",
            " [2.73743742e-02 9.72625626e-01]\n",
            " [7.29688174e-01 2.70311826e-01]\n",
            " [5.17450085e-01 4.82549915e-01]\n",
            " [5.34261883e-01 4.65738117e-01]\n",
            " [3.25243566e-01 6.74756434e-01]\n",
            " [8.81147725e-02 9.11885227e-01]\n",
            " [8.36150261e-01 1.63849739e-01]\n",
            " [4.45002714e-02 9.55499729e-01]\n",
            " [5.34299444e-01 4.65700556e-01]\n",
            " [6.43328124e-01 3.56671876e-01]\n",
            " [4.53939886e-02 9.54606011e-01]\n",
            " [9.14973340e-01 8.50266596e-02]\n",
            " [1.11509425e-03 9.98884906e-01]\n",
            " [7.56448575e-01 2.43551425e-01]\n",
            " [8.67787221e-01 1.32212779e-01]\n",
            " [1.71320233e-01 8.28679767e-01]\n",
            " [2.74318362e-02 9.72568164e-01]\n",
            " [7.86035305e-01 2.13964695e-01]\n",
            " [8.11811394e-01 1.88188606e-01]\n",
            " [5.03376313e-01 4.96623687e-01]\n",
            " [6.46162185e-02 9.35383782e-01]\n",
            " [7.04147722e-01 2.95852278e-01]\n",
            " [6.63150851e-02 9.33684915e-01]\n",
            " [1.86637378e-02 9.81336262e-01]\n",
            " [5.77470588e-01 4.22529412e-01]\n",
            " [7.70325126e-01 2.29674874e-01]\n",
            " [3.65217918e-01 6.34782082e-01]\n",
            " [7.00308141e-01 2.99691859e-01]\n",
            " [3.79351127e-01 6.20648873e-01]\n",
            " [8.83273816e-01 1.16726184e-01]\n",
            " [5.16911721e-01 4.83088279e-01]\n",
            " [6.70252314e-02 9.32974769e-01]\n",
            " [5.80311627e-02 9.41968837e-01]\n",
            " [6.19962333e-01 3.80037667e-01]\n",
            " [5.83707603e-01 4.16292397e-01]\n",
            " [6.45449289e-01 3.54550711e-01]\n",
            " [5.86931135e-02 9.41306887e-01]\n",
            " [3.47451206e-01 6.52548794e-01]\n",
            " [5.13865574e-01 4.86134426e-01]\n",
            " [4.92345198e-01 5.07654802e-01]\n",
            " [1.82506410e-01 8.17493590e-01]\n",
            " [1.44589653e-01 8.55410347e-01]\n",
            " [9.05491546e-02 9.09450845e-01]\n",
            " [1.50233493e-01 8.49766507e-01]\n",
            " [6.87925229e-01 3.12074771e-01]\n",
            " [3.72687228e-01 6.27312772e-01]\n",
            " [6.19542742e-02 9.38045726e-01]\n",
            " [9.10404254e-03 9.90895957e-01]\n",
            " [7.10917103e-01 2.89082897e-01]\n",
            " [1.59973174e-03 9.98400268e-01]\n",
            " [7.42398047e-01 2.57601953e-01]\n",
            " [7.38303227e-01 2.61696773e-01]\n",
            " [3.26157413e-01 6.73842587e-01]\n",
            " [7.42810152e-01 2.57189848e-01]\n",
            " [3.63608266e-01 6.36391734e-01]\n",
            " [2.14225165e-01 7.85774835e-01]\n",
            " [5.44726292e-01 4.55273708e-01]\n",
            " [5.30764183e-01 4.69235817e-01]\n",
            " [4.73667135e-02 9.52633286e-01]\n",
            " [5.26688397e-01 4.73311603e-01]\n",
            " [1.83450790e-01 8.16549210e-01]\n",
            " [5.62685178e-02 9.43731482e-01]\n",
            " [5.16177634e-01 4.83822366e-01]\n",
            " [6.37429516e-01 3.62570484e-01]\n",
            " [5.76263650e-01 4.23736350e-01]\n",
            " [6.12736559e-01 3.87263441e-01]\n",
            " [5.30764183e-01 4.69235817e-01]\n",
            " [6.83333856e-01 3.16666144e-01]\n",
            " [6.72112875e-01 3.27887125e-01]\n",
            " [4.88425615e-02 9.51157439e-01]\n",
            " [8.15693298e-01 1.84306702e-01]\n",
            " [6.59132018e-01 3.40867982e-01]\n",
            " [4.66123329e-01 5.33876671e-01]\n",
            " [6.53842077e-01 3.46157923e-01]\n",
            " [9.44682663e-01 5.53173368e-02]\n",
            " [5.47517742e-01 4.52482258e-01]]\n"
          ]
        }
      ]
    },
    {
      "cell_type": "markdown",
      "source": [
        "Da matriz, cada linha representa uma única observação. A primeira coluna é a probabilidade de o produto não ser comprado (1-p(x)) e a segunda coluna é a probabilidade de o produto ser comprado (p(x)).\n",
        "\n"
      ],
      "metadata": {
        "id": "9NnqlCvyoYnp"
      }
    },
    {
      "cell_type": "markdown",
      "source": [
        "**Usando matriz de confusão**\n",
        "Do módulo Scikit-learn, importamos arquivos . A matriz de confusão é o número de previsões corretas e incorretas por coluna, mostrando os seguintes valores: metrics confusion_matrix\n",
        "\n",
        "**Verdadeiros negativos (TN - True negatives)** na posição superior esquerda.\n",
        "\n",
        "**Falsos negativos (FN - False negatives)** na posição inferior esquerda.\n",
        "\n",
        "**Falsos positivos (FP - False positives)** na posição superior direita.\n",
        "\n",
        "**Verdadeiros positivos (TP - True positives)** na posição inferior direita."
      ],
      "metadata": {
        "id": "ks2X2HMLobB9"
      }
    },
    {
      "cell_type": "code",
      "source": [
        "from sklearn.metrics import confusion_matrix\n",
        "cf_matrix = confusion_matrix(y_test, y_pred)\n",
        "cf_matrix"
      ],
      "metadata": {
        "colab": {
          "base_uri": "https://localhost:8080/"
        },
        "id": "SxrjlyKbojvQ",
        "outputId": "f6d673a8-614e-4952-903e-bf30d7382bae"
      },
      "execution_count": null,
      "outputs": [
        {
          "output_type": "execute_result",
          "data": {
            "text/plain": [
              "array([[63,  9],\n",
              "       [14, 34]])"
            ]
          },
          "metadata": {},
          "execution_count": 63
        }
      ]
    },
    {
      "cell_type": "markdown",
      "source": [
        "A saída da matriz de confusão é uma matriz 2*2, pois o modelo é uma classificação binária. Vamos visualizar melhor usando um mapa de calor e explicar.\n",
        "\n"
      ],
      "metadata": {
        "id": "83TyIUhGorbA"
      }
    },
    {
      "cell_type": "code",
      "source": [
        "sns.heatmap(pd.DataFrame(cf_matrix), annot=True, cmap=\"YlGnBu\" ,fmt='g')\n",
        "plt.title('Confusion matrix', y=1.1)\n",
        "plt.ylabel('Actual label')\n",
        "plt.xlabel('Predicted label')"
      ],
      "metadata": {
        "colab": {
          "base_uri": "https://localhost:8080/",
          "height": 527
        },
        "id": "koLi_AOJowK_",
        "outputId": "aa791831-53dc-4db5-85ef-50ebc7a9c35b"
      },
      "execution_count": null,
      "outputs": [
        {
          "output_type": "execute_result",
          "data": {
            "text/plain": [
              "Text(0.5, 23.52222222222222, 'Predicted label')"
            ]
          },
          "metadata": {},
          "execution_count": 64
        },
        {
          "output_type": "display_data",
          "data": {
            "text/plain": [
              "<Figure size 640x480 with 2 Axes>"
            ],
            "image/png": "[encoded data removed]"
          },
          "metadata": {}
        }
      ]
    },
    {
      "cell_type": "markdown",
      "source": [
        "A partir de confusion_matrix, temos as seguintes observações:\n",
        "\n",
        "63 previsões TN: zeros previstos corretamente.\n",
        "\n",
        "14 previsões FN: uns previstos erroneamente como zeros.\n",
        "\n",
        "9 Previsões FP: zeros que foram erroneamente previstos como uns.\n",
        "\n",
        "34 previsões TP: aquelas previstas corretamente.\n",
        "\n",
        "**Para calcular a precisão** do modelo a partir da matriz de confusão, dividimos a soma de TN e TP pela soma de todas as previsões.\n",
        "\n",
        "![imagem do autor.PNG](data:image/png;base64,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)\n"
      ],
      "metadata": {
        "id": "ydENrdjxo0At"
      }
    },
    {
      "cell_type": "code",
      "source": [
        "Accuracy = (63 + 34)/(63 + 34 + 9 + 14)\n",
        "Accuracy"
      ],
      "metadata": {
        "colab": {
          "base_uri": "https://localhost:8080/"
        },
        "id": "Fbc5zohXpyNu",
        "outputId": "2a953b55-a5f3-44ed-991d-0968b3524451"
      },
      "execution_count": null,
      "outputs": [
        {
          "output_type": "execute_result",
          "data": {
            "text/plain": [
              "0.8083333333333333"
            ]
          },
          "metadata": {},
          "execution_count": 65
        }
      ]
    },
    {
      "cell_type": "code",
      "source": [
        "# Also same result from sklearn accuracy_score\n",
        "from sklearn.metrics import accuracy_score\n",
        "\n",
        "accuracy_score(y_test,y_pred)"
      ],
      "metadata": {
        "colab": {
          "base_uri": "https://localhost:8080/"
        },
        "id": "4ukBZws7p1IZ",
        "outputId": "3ff8e2ff-ff66-41f1-b798-be44bb5bd502"
      },
      "execution_count": null,
      "outputs": [
        {
          "output_type": "execute_result",
          "data": {
            "text/plain": [
              "0.8083333333333333"
            ]
          },
          "metadata": {},
          "execution_count": 66
        }
      ]
    },
    {
      "cell_type": "markdown",
      "source": [
        "A precisão do nosso modelo é de cerca de 80%, o que é ideal.\n",
        "\n",
        "**Métricas da matriz de confusão**\n",
        "\n",
        "O classification_report fornece um relatório mais abrangente do desempenho do modelo."
      ],
      "metadata": {
        "id": "KUbTPR86p5Mz"
      }
    },
    {
      "cell_type": "code",
      "source": [
        "target_names = ['will NOT PURCHASE', 'will PURCHASE']\n",
        "print(classification_report(y_test, y_pred,target_names=target_names))"
      ],
      "metadata": {
        "colab": {
          "base_uri": "https://localhost:8080/"
        },
        "id": "b3FOuHeIp-J1",
        "outputId": "43124f4b-df8d-4f42-ad17-c566885cfd95"
      },
      "execution_count": null,
      "outputs": [
        {
          "output_type": "stream",
          "name": "stdout",
          "text": [
            "                   precision    recall  f1-score   support\n",
            "\n",
            "will NOT PURCHASE       0.82      0.88      0.85        72\n",
            "    will PURCHASE       0.79      0.71      0.75        48\n",
            "\n",
            "         accuracy                           0.81       120\n",
            "        macro avg       0.80      0.79      0.80       120\n",
            "     weighted avg       0.81      0.81      0.81       120\n",
            "\n"
          ]
        }
      ]
    },
    {
      "cell_type": "markdown",
      "source": [
        "Fonte: https://www.machinelearningnuggets.com/logistic-regression/"
      ],
      "metadata": {
        "id": "cse_N4oIqNWj"
      }
    }
  ]
}